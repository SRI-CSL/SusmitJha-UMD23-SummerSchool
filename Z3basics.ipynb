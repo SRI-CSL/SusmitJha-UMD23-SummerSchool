{
  "nbformat": 4,
  "nbformat_minor": 0,
  "metadata": {
    "colab": {
      "provenance": [],
      "authorship_tag": "ABX9TyMGxVqZg5q8INbUgozaB/C9",
      "include_colab_link": true
    },
    "kernelspec": {
      "name": "python3",
      "display_name": "Python 3"
    },
    "language_info": {
      "name": "python"
    }
  },
  "cells": [
    {
      "cell_type": "markdown",
      "metadata": {
        "id": "view-in-github",
        "colab_type": "text"
      },
      "source": [
        "<a href=\"https://colab.research.google.com/github/SRI-CSL/SusmitJha-UMD23-SummerSchool/blob/main/Z3basics.ipynb\" target=\"_parent\"><img src=\"https://colab.research.google.com/assets/colab-badge.svg\" alt=\"Open In Colab\"/></a>"
      ]
    },
    {
      "cell_type": "code",
      "source": [
        "!python -m pip install --upgrade --user z3-solver"
      ],
      "metadata": {
        "colab": {
          "base_uri": "https://localhost:8080/"
        },
        "id": "OYFjnJK_i4XZ",
        "outputId": "4648275e-40c0-4d65-ec8f-465f777536fb"
      },
      "execution_count": 1,
      "outputs": [
        {
          "output_type": "stream",
          "name": "stdout",
          "text": [
            "Looking in indexes: https://pypi.org/simple, https://us-python.pkg.dev/colab-wheels/public/simple/\n",
            "Collecting z3-solver\n",
            "  Downloading z3_solver-4.12.2.0-py2.py3-none-manylinux2014_x86_64.whl (55.7 MB)\n",
            "\u001b[2K     \u001b[90m━━━━━━━━━━━━━━━━━━━━━━━━━━━━━━━━━━━━━━━━\u001b[0m \u001b[32m55.7/55.7 MB\u001b[0m \u001b[31m12.8 MB/s\u001b[0m eta \u001b[36m0:00:00\u001b[0m\n",
            "\u001b[?25hInstalling collected packages: z3-solver\n",
            "Successfully installed z3-solver-4.12.2.0\n"
          ]
        }
      ]
    },
    {
      "cell_type": "code",
      "source": [
        "from z3 import *\n",
        "\n",
        "x = Int('x')\n",
        "y = Int('y')\n",
        "\n",
        "s = Solver()\n",
        "s.add(x > 5)\n",
        "s.add(y < 10)\n",
        "s.add(x + y == 10)\n",
        "\n",
        "print(s.check())\n",
        "print(s.model())"
      ],
      "metadata": {
        "colab": {
          "base_uri": "https://localhost:8080/"
        },
        "id": "-GmXiiVsjAOs",
        "outputId": "26545f1b-daed-4506-d4d0-28fd1f6045e6"
      },
      "execution_count": 2,
      "outputs": [
        {
          "output_type": "stream",
          "name": "stdout",
          "text": [
            "sat\n",
            "[y = 0, x = 10]\n"
          ]
        }
      ]
    },
    {
      "cell_type": "code",
      "source": [
        "x = Bool(\"x\")\n",
        "x = Const(\"x\" , BoolSort())\n",
        "p, q, r = Bools(\"p q r\") # convenience function for multiple definitions\n",
        "x = Real(\"x\")\n",
        "y = Int(\"x\") \n",
        "v = BitVec(\"n\", 32) # 32 bit bitvector"
      ],
      "metadata": {
        "id": "3b9ODW4tjk1A"
      },
      "execution_count": 3,
      "outputs": []
    },
    {
      "cell_type": "code",
      "source": [
        "s.add(Implies(p,q))\n",
        "print(s.check())\n",
        "print(s.model())"
      ],
      "metadata": {
        "colab": {
          "base_uri": "https://localhost:8080/"
        },
        "id": "iptgYjpEjoHE",
        "outputId": "27133f2e-f942-4739-c8c2-1591ac26d475"
      },
      "execution_count": 4,
      "outputs": [
        {
          "output_type": "stream",
          "name": "stdout",
          "text": [
            "sat\n",
            "[p = False, x = 10, y = 0]\n"
          ]
        }
      ]
    },
    {
      "cell_type": "code",
      "source": [
        "# each queen is a column\n",
        "Q = [ Int(f\"Q_{row + 1}\") for row in range(8) ]\n",
        "val_c = [ And(1 <= Q[row], Q[row] <= 8) for row in range(8) ]\n",
        "\n",
        "# At most one queen per column\n",
        "col_c = [ Distinct(Q) ]\n",
        "\n",
        "# Diagonal constraint\n",
        "diag_c = [ If(i == j,\n",
        "              True,\n",
        "              And(Q[i] - Q[j] != i - j, Q[i] - Q[j] != j - i))\n",
        "           for i in range(8) for j in range(i) ]\n",
        "\n",
        "s1 = Solver()\n",
        "s1.add(val_c)\n",
        "s1.add(col_c)\n",
        "s1.add(diag_c)\n",
        "print(s1.check())\n",
        "if s1.check() == sat:\n",
        "  mdl = s1.model()\n",
        "  print(mdl)"
      ],
      "metadata": {
        "colab": {
          "base_uri": "https://localhost:8080/"
        },
        "id": "kybU4VDWjuW6",
        "outputId": "3ed65483-b69b-4b5c-8b36-d52a05bc3712"
      },
      "execution_count": 9,
      "outputs": [
        {
          "output_type": "stream",
          "name": "stdout",
          "text": [
            "sat\n",
            "[Q_3 = 8,\n",
            " Q_1 = 4,\n",
            " Q_7 = 5,\n",
            " Q_8 = 7,\n",
            " Q_5 = 1,\n",
            " Q_4 = 6,\n",
            " Q_2 = 2,\n",
            " Q_6 = 3]\n"
          ]
        }
      ]
    },
    {
      "cell_type": "code",
      "source": [
        "import numpy as np\n",
        "import matplotlib.pyplot as plt\n",
        "\n",
        "board = np.zeros((8,8))\n",
        "\n",
        "for i in range(8):\n",
        "    board[i, mdl[Q[i]].as_long() - 1] = 1\n",
        "\n",
        "plt.matshow(board)"
      ],
      "metadata": {
        "colab": {
          "base_uri": "https://localhost:8080/",
          "height": 455
        },
        "id": "Fsl48B9akEvA",
        "outputId": "b1241b48-8250-470f-8cf7-93d4a6b9a34a"
      },
      "execution_count": 10,
      "outputs": [
        {
          "output_type": "execute_result",
          "data": {
            "text/plain": [
              "<matplotlib.image.AxesImage at 0x7f19b92d0340>"
            ]
          },
          "metadata": {},
          "execution_count": 10
        },
        {
          "output_type": "display_data",
          "data": {
            "text/plain": [
              "<Figure size 480x480 with 1 Axes>"
            ],
            "image/png": "[encoded data removed]"
          },
          "metadata": {}
        }
      ]
    }
  ]
}