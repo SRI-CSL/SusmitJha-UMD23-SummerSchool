{
  "nbformat": 4,
  "nbformat_minor": 0,
  "metadata": {
    "colab": {
      "provenance": [],
      "authorship_tag": "ABX9TyNMCewoowXnkDZtCiLoAM/o",
      "include_colab_link": true
    },
    "kernelspec": {
      "name": "python3",
      "display_name": "Python 3"
    },
    "language_info": {
      "name": "python"
    }
  },
  "cells": [
    {
      "cell_type": "markdown",
      "metadata": {
        "id": "view-in-github",
        "colab_type": "text"
      },
      "source": [
        "<a href=\"https://colab.research.google.com/github/SRI-CSL/SusmitJha-UMD23-SummerSchool/blob/main/Swap.ipynb\" target=\"_parent\"><img src=\"https://colab.research.google.com/assets/colab-badge.svg\" alt=\"Open In Colab\"/></a>"
      ]
    },
    {
      "cell_type": "code",
      "execution_count": null,
      "metadata": {
        "colab": {
          "base_uri": "https://localhost:8080/"
        },
        "id": "5mXZRy-t8GN8",
        "outputId": "e79f98ec-d7e9-425c-8208-39c72b617f99"
      },
      "outputs": [
        {
          "output_type": "stream",
          "name": "stdout",
          "text": [
            "Looking in indexes: https://pypi.org/simple, https://us-python.pkg.dev/colab-wheels/public/simple/\n",
            "Requirement already satisfied: z3-solver in /root/.local/lib/python3.10/site-packages (4.12.2.0)\n"
          ]
        }
      ],
      "source": [
        "!python -m pip install --upgrade --user z3-solver"
      ]
    },
    {
      "cell_type": "code",
      "source": [
        "from z3 import *"
      ],
      "metadata": {
        "id": "A1ww5TawFi76"
      },
      "execution_count": null,
      "outputs": []
    },
    {
      "cell_type": "code",
      "source": [
        "l1 = Bool(\"L1isX\")\n",
        "l2 = Bool(\"L2isX\")\n",
        "l3 = Bool(\"L3isX\")\n",
        "m1 = Bool(\"L1isY\")\n",
        "m2 = Bool(\"L2isY\")\n",
        "m3 = Bool(\"L3isY\")"
      ],
      "metadata": {
        "id": "7alipAHgEBok"
      },
      "execution_count": null,
      "outputs": []
    },
    {
      "cell_type": "code",
      "source": [
        "x = BitVec(\"x\", 4)\n",
        "y = BitVec(\"y\", 4)\n",
        "\n",
        "x1 = BitVec(\"x1\", 4)\n",
        "y1 = BitVec(\"y1\", 4)\n",
        "\n",
        "x2 = BitVec(\"x2\", 4)\n",
        "y2 = BitVec(\"y2\", 4)\n",
        "\n",
        "x3 = BitVec(\"x3\", 4)\n",
        "y3 = BitVec(\"y3\", 4)\n"
      ],
      "metadata": {
        "id": "7DUk6m_AGqUw"
      },
      "execution_count": null,
      "outputs": []
    },
    {
      "cell_type": "code",
      "source": [
        "smt = Solver()"
      ],
      "metadata": {
        "id": "lfVa1-AhGAG1"
      },
      "execution_count": null,
      "outputs": []
    },
    {
      "cell_type": "code",
      "source": [
        "smt.add(Or(And(l1, Not(m1)), And(Not(l1), m1)))\n",
        "smt.add(Or(And(l2, Not(m2)), And(Not(l2), m2)))\n",
        "smt.add(Or(And(l3, Not(m3)), And(Not(l3), m3)))\n",
        "\n",
        "smt.add(x1 == If(l1, x^y, x))\n",
        "smt.add(y1 == If(m1, x^y, y))\n",
        "\n",
        "smt.add(x2 == If(l2, x1^y1, x1))\n",
        "smt.add(y2 == If(m2, x1^y1, y1))\n",
        "\n",
        "smt.add(x3 == If(l3, x2^y2, x2))\n",
        "smt.add(y3 == If(m3, x2^y2, y2))\n",
        "\n",
        "\n",
        "smt.add(And(x3 == y, y3 == x))"
      ],
      "metadata": {
        "id": "CTDFjK4tGPPl"
      },
      "execution_count": null,
      "outputs": []
    },
    {
      "cell_type": "code",
      "source": [
        "if smt.check() == sat:\n",
        "    model = smt.model()\n",
        "    print(model[l1])\n",
        "    print(model[m1])\n",
        "    print(model[l2])\n",
        "    print(model[m2])\n",
        "    print(model[l3])\n",
        "    print(model[m3])\n",
        "    print(model)"
      ],
      "metadata": {
        "colab": {
          "base_uri": "https://localhost:8080/"
        },
        "id": "tE5BKuWxIz7p",
        "outputId": "ba58e4fc-dfe8-4c50-98b4-a2d7ea21391e"
      },
      "execution_count": null,
      "outputs": [
        {
          "output_type": "stream",
          "name": "stdout",
          "text": [
            "False\n",
            "True\n",
            "True\n",
            "False\n",
            "False\n",
            "True\n",
            "[L1isX = False,\n",
            " L2isY = False,\n",
            " L2isX = True,\n",
            " L1isY = True,\n",
            " L3isX = False,\n",
            " L3isY = True,\n",
            " x2 = 0,\n",
            " y2 = 0,\n",
            " y3 = 0,\n",
            " x = 0,\n",
            " x1 = 0,\n",
            " y = 0,\n",
            " y1 = 0,\n",
            " x3 = 0]\n"
          ]
        }
      ]
    },
    {
      "cell_type": "code",
      "source": [
        "c1 = Or(And(l1, Not(m1)), And(Not(l1), m1))\n",
        "c2 = Or(And(l2, Not(m2)), And(Not(l2), m2))\n",
        "c3 = Or(And(l3, Not(m3)), And(Not(l3), m3))\n",
        "\n",
        "#c1 = And(l1, Not(m1))\n",
        "#c2 = And(Not(l2), m2)\n",
        "#c3 = And(l3, Not(m3))\n",
        "\n",
        "c4 = x1 == If(l1, x^y, x)\n",
        "c5 = y1 == If(m1, x^y, y)\n",
        "\n",
        "c6 = x2 == If(l2, x1^y1, x1)\n",
        "c7 = y2 == If(m2, x1^y1, y1)\n",
        "\n",
        "c8 = x3 == If(l3, x2^y2, x2)\n",
        "c9 = y3 == If(m3, x2^y2, y2)\n",
        "\n",
        "\n",
        "c10 = And(x3 == y, y3 == x)\n",
        "\n",
        "smt1 = Solver()\n",
        "smt1.add( ForAll([x,y], Exists ([x1, y1, x2, y2, x3, y3], (And( c1, c2, c3, c4, c5, c6, c7, c8, c9, c10)))))\n",
        "#smt1.add((And( c1, c2, c3, c4, c5, c6, c7, c8, c9, Not(c10))))\n"
      ],
      "metadata": {
        "id": "EzIiAtp3KwXV"
      },
      "execution_count": null,
      "outputs": []
    },
    {
      "cell_type": "code",
      "source": [
        "c = smt1.check()\n",
        "print(c)\n",
        "if smt1.check() == sat:\n",
        "    model = smt1.model()\n",
        "    print(model[l1])\n",
        "    print(model[m1])\n",
        "    print(model[l2])\n",
        "    print(model[m2])\n",
        "    print(model[l3])\n",
        "    print(model[m3])\n",
        "    print(model)"
      ],
      "metadata": {
        "colab": {
          "base_uri": "https://localhost:8080/"
        },
        "id": "vTBc2efHLSMV",
        "outputId": "02ae5a24-dc12-4e91-e642-02d6bca4e7bf"
      },
      "execution_count": null,
      "outputs": [
        {
          "output_type": "stream",
          "name": "stdout",
          "text": [
            "sat\n",
            "False\n",
            "True\n",
            "True\n",
            "False\n",
            "False\n",
            "True\n",
            "[L2isY = False,\n",
            " L2isX = True,\n",
            " L3isX = False,\n",
            " L1isX = False,\n",
            " L1isY = True,\n",
            " L3isY = True]\n"
          ]
        }
      ]
    }
  ]
}